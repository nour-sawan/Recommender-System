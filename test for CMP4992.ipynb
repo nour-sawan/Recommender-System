{
 "cells": [
  {
   "cell_type": "code",
   "execution_count": 64,
   "id": "47197106",
   "metadata": {},
   "outputs": [],
   "source": [
    "def load_meditation_types():\n",
    "    meditation_types = {}\n",
    "    with open(r'C:\\Users\\lenovo\\Desktop\\CMP4492_item.txt', encoding=\"ISO-8859-1\") as file:\n",
    "        for row in file:\n",
    "            id, name = row.strip().split('|')[0:2]\n",
    "            meditation_types[id] = name\n",
    "    return meditation_types\n",
    "\n",
    "meditation_types = load_meditation_types()\n"
   ]
  },
  {
   "cell_type": "code",
   "execution_count": 65,
   "id": "55d6d272",
   "metadata": {},
   "outputs": [
    {
     "data": {
      "text/plain": [
       "{'201': 'Sleep',\n",
       " '202': 'Depression',\n",
       " '203': 'Anger',\n",
       " '204': 'Stress',\n",
       " '205': 'Loneliness',\n",
       " '206': 'Self-Love',\n",
       " '207': 'focus'}"
      ]
     },
     "execution_count": 65,
     "metadata": {},
     "output_type": "execute_result"
    }
   ],
   "source": [
    "meditation_types"
   ]
  },
  {
   "cell_type": "code",
   "execution_count": 66,
   "id": "11d67d25",
   "metadata": {},
   "outputs": [
    {
     "name": "stdout",
     "output_type": "stream",
     "text": [
      "[{'user_id': 1.0, 'sleep': 4, 'depression': 3.5, 'Anger': 2, 'Stress': 5, 'loneliness': 2.5, 'self-love': 4.5, 'mind clarity': ' '}, {'user_id': 2.0, 'sleep': 5, 'depression': 4.5, 'Anger': 4, 'Stress': 3.5, 'loneliness': 2, 'self-love': 2.5, 'mind clarity': ' '}, {'user_id': 3.0, 'sleep': 5, 'depression': 4, 'Anger': 2, 'Stress': 3.5, 'loneliness': 4.5, 'self-love': 2.5, 'mind clarity': ' '}, {'user_id': 4.0, 'sleep': 5, 'depression': 4.5, 'Anger': 4, 'Stress': 3.5, 'loneliness': 2, 'self-love': 2.5, 'mind clarity': ' '}, {'user_id': 5.0, 'sleep': 5, 'depression': 4.5, 'Anger': 4, 'Stress': 3.5, 'loneliness': 2, 'self-love': 2.5, 'mind clarity': ' '}, {'user_id': 6.0, 'sleep': 4, 'depression': 3.5, 'Anger': 2.5, 'Stress': 4.5, 'loneliness': 2, 'self-love': ' ', 'mind clarity': 5}, {'user_id': 7.0, 'sleep': 2.5, 'depression': 2, 'Anger': 5, 'Stress': 4.5, 'loneliness': ' ', 'self-love': 4, 'mind clarity': 3.5}, {'user_id': 8.0, 'sleep': 5, 'depression': 4, 'Anger': 4.5, 'Stress': 3.5, 'loneliness': 2, 'self-love': 2.5, 'mind clarity': ' '}, {'user_id': 9.0, 'sleep': 5, 'depression': 4, 'Anger': 2, 'Stress': 3.5, 'loneliness': ' ', 'self-love': 2.5, 'mind clarity': 4.5}, {'user_id': 10.0, 'sleep': 5, 'depression': 4.5, 'Anger': 4, 'Stress': 3.5, 'loneliness': ' ', 'self-love': 2, 'mind clarity': 2.5}, {'user_id': 11.0, 'sleep': ' ', 'depression': 3.5, 'Anger': 4, 'Stress': 4.5, 'loneliness': 2, 'self-love': 5, 'mind clarity': 2.5}, {'user_id': 12.0, 'sleep': 2, 'depression': 2.5, 'Anger': 3.5, 'Stress': 4, 'loneliness': 5, 'self-love': 4.5, 'mind clarity': ' '}, {'user_id': 13.0, 'sleep': ' ', 'depression': 2.5, 'Anger': 3.5, 'Stress': 4, 'loneliness': 2, 'self-love': 4.5, 'mind clarity': 5}, {'user_id': 14.0, 'sleep': 4.5, 'depression': ' ', 'Anger': 2.5, 'Stress': 4, 'loneliness': 2, 'self-love': 3.5, 'mind clarity': 5}, {'user_id': 15.0, 'sleep': 4.5, 'depression': 3.5, 'Anger': ' ', 'Stress': 5, 'loneliness': 2.5, 'self-love': 4, 'mind clarity': 2}, {'user_id': 16.0, 'sleep': 3.5, 'depression': 4, 'Anger': 4.5, 'Stress': 2.5, 'loneliness': 5, 'self-love': ' ', 'mind clarity': 2}, {'user_id': 17.0, 'sleep': 4.5, 'depression': 3.5, 'Anger': 4, 'Stress': 2, 'loneliness': 5, 'self-love': 2.5, 'mind clarity': ' '}, {'user_id': 18.0, 'sleep': 4, 'depression': 4.5, 'Anger': 5, 'Stress': 3.5, 'loneliness': 2, 'self-love': 2.5, 'mind clarity': ' '}, {'user_id': 19.0, 'sleep': 2.5, 'depression': 3.5, 'Anger': 2, 'Stress': ' ', 'loneliness': 4, 'self-love': 4.5, 'mind clarity': 5}, {'user_id': 20.0, 'sleep': 4.5, 'depression': 2.5, 'Anger': 4, 'Stress': 3.5, 'loneliness': 5, 'self-love': ' ', 'mind clarity': 2}, {'user_id': 21.0, 'sleep': 5, 'depression': 4.5, 'Anger': 4, 'Stress': ' ', 'loneliness': 2.5, 'self-love': 2, 'mind clarity': 3.5}, {'user_id': 22.0, 'sleep': 5, 'depression': 4.5, 'Anger': 4, 'Stress': 3.5, 'loneliness': 2, 'self-love': 2.5, 'mind clarity': ' '}, {'user_id': 23.0, 'sleep': 2, 'depression': 2.5, 'Anger': 3.5, 'Stress': 4.5, 'loneliness': 5, 'self-love': 4, 'mind clarity': ' '}, {'user_id': 24.0, 'sleep': 2.5, 'depression': 4, 'Anger': 4.5, 'Stress': 5, 'loneliness': ' ', 'self-love': 3.5, 'mind clarity': 2}, {'user_id': 25.0, 'sleep': 5, 'depression': 4.5, 'Anger': 4, 'Stress': 3.5, 'loneliness': ' ', 'self-love': 2, 'mind clarity': 2.5}, {'user_id': 26.0, 'sleep': 2.5, 'depression': 4.5, 'Anger': 3.5, 'Stress': 2, 'loneliness': 5, 'self-love': 4, 'mind clarity': ' '}, {'user_id': 27.0, 'sleep': 2.5, 'depression': ' ', 'Anger': 2, 'Stress': 3.5, 'loneliness': 5, 'self-love': 4.5, 'mind clarity': 4}, {'user_id': 28.0, 'sleep': 5, 'depression': 2.5, 'Anger': 2, 'Stress': 4.5, 'loneliness': ' ', 'self-love': 4, 'mind clarity': 3.5}, {'user_id': 29.0, 'sleep': 4.5, 'depression': 2.5, 'Anger': 2, 'Stress': 3.5, 'loneliness': ' ', 'self-love': 4, 'mind clarity': 5}, {'user_id': 30.0, 'sleep': ' ', 'depression': 2.5, 'Anger': 2, 'Stress': 3.5, 'loneliness': 4, 'self-love': 4.5, 'mind clarity': 5}, {'user_id': 31.0, 'sleep': 4.5, 'depression': 5, 'Anger': 4, 'Stress': 3.5, 'loneliness': 2, 'self-love': 2.5, 'mind clarity': ' '}, {'user_id': 32.0, 'sleep': 3.5, 'depression': 4.5, 'Anger': 2, 'Stress': 5, 'loneliness': 2.5, 'self-love': ' ', 'mind clarity': 4}, {'user_id': 33.0, 'sleep': 4, 'depression': 2, 'Anger': 4.5, 'Stress': 5, 'loneliness': ' ', 'self-love': 2.5, 'mind clarity': 3.5}, {'user_id': 34.0, 'sleep': 4, 'depression': 4.5, 'Anger': ' ', 'Stress': 5, 'loneliness': 2.5, 'self-love': 3.5, 'mind clarity': 2}, {'user_id': 35.0, 'sleep': 5, 'depression': 2, 'Anger': 2.5, 'Stress': 4.5, 'loneliness': ' ', 'self-love': 4, 'mind clarity': 3.5}, {'user_id': 36.0, 'sleep': 2, 'depression': 3.5, 'Anger': 2.5, 'Stress': 4, 'loneliness': ' ', 'self-love': 5, 'mind clarity': 4.5}, {'user_id': 37.0, 'sleep': ' ', 'depression': 2.5, 'Anger': 4, 'Stress': 2, 'loneliness': 3.5, 'self-love': 4.5, 'mind clarity': 5}, {'user_id': 38.0, 'sleep': 3.5, 'depression': 2, 'Anger': 2.5, 'Stress': ' ', 'loneliness': 4.5, 'self-love': 4, 'mind clarity': 5}, {'user_id': 39.0, 'sleep': 5, 'depression': 3.5, 'Anger': 4.5, 'Stress': 2, 'loneliness': 2.5, 'self-love': ' ', 'mind clarity': 4}, {'user_id': 40.0, 'sleep': 3.5, 'depression': 2.5, 'Anger': 4, 'Stress': 4.5, 'loneliness': 2, 'self-love': ' ', 'mind clarity': 5}, {'user_id': 41.0, 'sleep': 4.5, 'depression': 2, 'Anger': 5, 'Stress': 4, 'loneliness': 3.5, 'self-love': 2.5, 'mind clarity': ' '}, {'user_id': 42.0, 'sleep': 5, 'depression': 4.5, 'Anger': 2, 'Stress': 4, 'loneliness': 2.5, 'self-love': 3.5, 'mind clarity': ' '}, {'user_id': 43.0, 'sleep': 5, 'depression': 2, 'Anger': 2.5, 'Stress': ' ', 'loneliness': 3.5, 'self-love': 4, 'mind clarity': 4.5}, {'user_id': 44.0, 'sleep': 5, 'depression': 4.5, 'Anger': 4, 'Stress': 3.5, 'loneliness': 2, 'self-love': 2.5, 'mind clarity': ' '}, {'user_id': 45.0, 'sleep': 4.5, 'depression': 4, 'Anger': 2, 'Stress': 2.5, 'loneliness': 3.5, 'self-love': 5, 'mind clarity': ' '}, {'user_id': 46.0, 'sleep': 2, 'depression': 2.5, 'Anger': 3.5, 'Stress': 4, 'loneliness': 4.5, 'self-love': 5, 'mind clarity': ' '}, {'user_id': 47.0, 'sleep': 5, 'depression': 4.5, 'Anger': 4, 'Stress': 3.5, 'loneliness': 2, 'self-love': 2.5, 'mind clarity': ' '}, {'user_id': 48.0, 'sleep': 5, 'depression': 3.5, 'Anger': 4, 'Stress': 4.5, 'loneliness': 2, 'self-love': ' ', 'mind clarity': 2.5}, {'user_id': 49.0, 'sleep': 5, 'depression': 4.5, 'Anger': 4, 'Stress': 3.5, 'loneliness': 2.5, 'self-love': 2, 'mind clarity': ' '}, {'user_id': 50.0, 'sleep': 5, 'depression': 4, 'Anger': 4.5, 'Stress': ' ', 'loneliness': 2, 'self-love': 2.5, 'mind clarity': 3.5}, {'user_id': 51.0, 'sleep': 5, 'depression': 3.5, 'Anger': 2, 'Stress': 4, 'loneliness': ' ', 'self-love': 4.5, 'mind clarity': 2.5}, {'user_id': 52.0, 'sleep': 5, 'depression': 3.5, 'Anger': 4, 'Stress': 2, 'loneliness': ' ', 'self-love': 4.5, 'mind clarity': 2.5}, {'user_id': 53.0, 'sleep': 2.5, 'depression': 4.5, 'Anger': 4, 'Stress': 2, 'loneliness': ' ', 'self-love': 3.5, 'mind clarity': 5}, {'user_id': 54.0, 'sleep': 4, 'depression': 3.5, 'Anger': ' ', 'Stress': 2, 'loneliness': 2.5, 'self-love': 4.5, 'mind clarity': 5}, {'user_id': 55.0, 'sleep': 4.5, 'depression': 4, 'Anger': 3.5, 'Stress': 2, 'loneliness': 2.5, 'self-love': 5, 'mind clarity': ' '}, {'user_id': 56.0, 'sleep': 5, 'depression': ' ', 'Anger': 2, 'Stress': 3.5, 'loneliness': 2.5, 'self-love': 4.5, 'mind clarity': 4}, {'user_id': 57.0, 'sleep': 5, 'depression': 4.5, 'Anger': ' ', 'Stress': 2.5, 'loneliness': 2, 'self-love': 3.5, 'mind clarity': 4}, {'user_id': 58.0, 'sleep': 4.5, 'depression': 4, 'Anger': ' ', 'Stress': 5, 'loneliness': 2.5, 'self-love': 3.5, 'mind clarity': 2}, {'user_id': 59.0, 'sleep': 5, 'depression': 4.5, 'Anger': 4, 'Stress': 3.5, 'loneliness': 2, 'self-love': 2.5, 'mind clarity': ' '}, {'user_id': 60.0, 'sleep': 4.5, 'depression': 3.5, 'Anger': 2, 'Stress': 5, 'loneliness': 2.5, 'self-love': 4, 'mind clarity': ' '}, {'user_id': 61.0, 'sleep': 3.5, 'depression': 2.5, 'Anger': 5, 'Stress': ' ', 'loneliness': 4.5, 'self-love': 4, 'mind clarity': 2}, {'user_id': 62.0, 'sleep': 5, 'depression': 4, 'Anger': 2, 'Stress': 4.5, 'loneliness': ' ', 'self-love': 3.5, 'mind clarity': 2.5}, {'user_id': 63.0, 'sleep': 4, 'depression': 4.5, 'Anger': 2.5, 'Stress': 5, 'loneliness': ' ', 'self-love': 3.5, 'mind clarity': 2}, {'user_id': 64.0, 'sleep': ' ', 'depression': 4.5, 'Anger': 5, 'Stress': 3.5, 'loneliness': 2.5, 'self-love': 2, 'mind clarity': 4}, {'user_id': 65.0, 'sleep': 4.5, 'depression': 2, 'Anger': ' ', 'Stress': 2.5, 'loneliness': 5, 'self-love': 4, 'mind clarity': 3.5}, {'user_id': 66.0, 'sleep': 2.5, 'depression': 4, 'Anger': 5, 'Stress': 4.5, 'loneliness': ' ', 'self-love': 2, 'mind clarity': 3.5}, {'user_id': 67.0, 'sleep': 5, 'depression': 4.5, 'Anger': 4, 'Stress': 3.5, 'loneliness': 2, 'self-love': 2.5, 'mind clarity': ' '}, {'user_id': 68.0, 'sleep': 5, 'depression': 4.5, 'Anger': 4, 'Stress': ' ', 'loneliness': 2.5, 'self-love': 2, 'mind clarity': 3.5}, {'user_id': 69.0, 'sleep': ' ', 'depression': 2.5, 'Anger': 2, 'Stress': 3.5, 'loneliness': 4, 'self-love': 4.5, 'mind clarity': 5}, {'user_id': 70.0, 'sleep': ' ', 'depression': 2.5, 'Anger': 2, 'Stress': 3.5, 'loneliness': 5, 'self-love': 4.5, 'mind clarity': 4}, {'user_id': 71.0, 'sleep': 5, 'depression': 4, 'Anger': 4.5, 'Stress': 3.5, 'loneliness': ' ', 'self-love': 2, 'mind clarity': 2.5}, {'user_id': 72.0, 'sleep': 4.5, 'depression': 5, 'Anger': ' ', 'Stress': 4, 'loneliness': 2.5, 'self-love': 2, 'mind clarity': 3.5}, {'user_id': 73.0, 'sleep': 4.5, 'depression': 5, 'Anger': 4, 'Stress': 3.5, 'loneliness': 2, 'self-love': 2.5, 'mind clarity': ' '}, {'user_id': 74.0, 'sleep': 2, 'depression': 3.5, 'Anger': 4, 'Stress': 4.5, 'loneliness': 2.5, 'self-love': ' ', 'mind clarity': 5}, {'user_id': 75.0, 'sleep': ' ', 'depression': 4, 'Anger': 5, 'Stress': 2.5, 'loneliness': 4.5, 'self-love': 3.5, 'mind clarity': 2}, {'user_id': 76.0, 'sleep': ' ', 'depression': 2.5, 'Anger': 4.5, 'Stress': 2, 'loneliness': 5, 'self-love': 3.5, 'mind clarity': 4}, {'user_id': 77.0, 'sleep': 3.5, 'depression': 2.5, 'Anger': 5, 'Stress': 4.5, 'loneliness': ' ', 'self-love': 2, 'mind clarity': 4}, {'user_id': 78.0, 'sleep': 3.5, 'depression': ' ', 'Anger': 4, 'Stress': 2.5, 'loneliness': 4.5, 'self-love': 2, 'mind clarity': 5}, {'user_id': 79.0, 'sleep': 3.5, 'depression': 2, 'Anger': 4.5, 'Stress': 4, 'loneliness': 5, 'self-love': 2.5, 'mind clarity': ' '}, {'user_id': 80.0, 'sleep': 5, 'depression': 4.5, 'Anger': 4, 'Stress': 3.5, 'loneliness': ' ', 'self-love': 2.5, 'mind clarity': 2}, {'user_id': 81.0, 'sleep': 4, 'depression': 5, 'Anger': 4.5, 'Stress': 3.5, 'loneliness': ' ', 'self-love': 2, 'mind clarity': 2.5}, {'user_id': 82.0, 'sleep': 5, 'depression': 4, 'Anger': 3.5, 'Stress': 2, 'loneliness': 4.5, 'self-love': 2.5, 'mind clarity': ' '}, {'user_id': 83.0, 'sleep': 2, 'depression': 5, 'Anger': 3.5, 'Stress': 4.5, 'loneliness': 2.5, 'self-love': ' ', 'mind clarity': 4}, {'user_id': 84.0, 'sleep': ' ', 'depression': 2.5, 'Anger': 2, 'Stress': 3.5, 'loneliness': 4, 'self-love': 5, 'mind clarity': 4.5}, {'user_id': 85.0, 'sleep': 4.5, 'depression': 4, 'Anger': 2, 'Stress': 3.5, 'loneliness': 5, 'self-love': ' ', 'mind clarity': 2.5}, {'user_id': 86.0, 'sleep': ' ', 'depression': 3.5, 'Anger': 5, 'Stress': 2.5, 'loneliness': 2, 'self-love': 4.5, 'mind clarity': 4}, {'user_id': 87.0, 'sleep': ' ', 'depression': 3.5, 'Anger': 4.5, 'Stress': 4, 'loneliness': 2, 'self-love': 5, 'mind clarity': 2.5}, {'user_id': 88.0, 'sleep': 4, 'depression': 4.5, 'Anger': ' ', 'Stress': 2.5, 'loneliness': 5, 'self-love': 2, 'mind clarity': 3.5}, {'user_id': 89.0, 'sleep': 5, 'depression': ' ', 'Anger': 2, 'Stress': 2.5, 'loneliness': 3.5, 'self-love': 4, 'mind clarity': 4.5}, {'user_id': 90.0, 'sleep': 3.5, 'depression': 5, 'Anger': 2.5, 'Stress': 4, 'loneliness': ' ', 'self-love': 4.5, 'mind clarity': 2}, {'user_id': 91.0, 'sleep': 5, 'depression': 4, 'Anger': 4.5, 'Stress': 3.5, 'loneliness': ' ', 'self-love': 2, 'mind clarity': 2.5}, {'user_id': 92.0, 'sleep': 4.5, 'depression': 2.5, 'Anger': ' ', 'Stress': 4, 'loneliness': 5, 'self-love': 3.5, 'mind clarity': 2}, {'user_id': 93.0, 'sleep': 2, 'depression': 5, 'Anger': 4.5, 'Stress': 3.5, 'loneliness': 4, 'self-love': 2.5, 'mind clarity': ' '}, {'user_id': 94.0, 'sleep': 4.5, 'depression': 2.5, 'Anger': 4, 'Stress': 3.5, 'loneliness': 5, 'self-love': ' ', 'mind clarity': 2}, {'user_id': 95.0, 'sleep': 5, 'depression': 4.5, 'Anger': 4, 'Stress': 3.5, 'loneliness': 2, 'self-love': 2.5, 'mind clarity': ' '}, {'user_id': 96.0, 'sleep': 5, 'depression': 2, 'Anger': 4.5, 'Stress': 4, 'loneliness': ' ', 'self-love': 2.5, 'mind clarity': 3.5}, {'user_id': 97.0, 'sleep': ' ', 'depression': 2.5, 'Anger': 2, 'Stress': 3.5, 'loneliness': 4, 'self-love': 4.5, 'mind clarity': 5}, {'user_id': 98.0, 'sleep': 4.5, 'depression': 5, 'Anger': 3.5, 'Stress': 4, 'loneliness': 2.5, 'self-love': 2, 'mind clarity': ' '}, {'user_id': 99.0, 'sleep': 4, 'depression': 5, 'Anger': 4.5, 'Stress': 2.5, 'loneliness': 3.5, 'self-love': ' ', 'mind clarity': 2}, {'user_id': 100.0, 'sleep': 5, 'depression': 4.5, 'Anger': 3.5, 'Stress': 4, 'loneliness': 2, 'self-love': 2.5, 'mind clarity': ' '}, {'user_id': 101.0, 'sleep': 4, 'depression': 2.5, 'Anger': 4.5, 'Stress': 5, 'loneliness': ' ', 'self-love': 2, 'mind clarity': 3.5}, {'user_id': 102.0, 'sleep': 5, 'depression': 4.5, 'Anger': 4, 'Stress': 3.5, 'loneliness': 2, 'self-love': 2.5, 'mind clarity': ' '}, {'user_id': 103.0, 'sleep': 4.5, 'depression': 3.5, 'Anger': 2.5, 'Stress': 4, 'loneliness': ' ', 'self-love': 2, 'mind clarity': 5}, {'user_id': nan, 'sleep': ' ', 'depression': 4.5, 'Anger': 4, 'Stress': 3.5, 'loneliness': 2, 'self-love': 2.5, 'mind clarity': 5}]\n"
     ]
    }
   ],
   "source": [
    "import pandas as pd\n",
    "\n",
    "# Read the Excel file into a DataFrame\n",
    "excel_data = pd.read_excel(r'C:\\Users\\lenovo\\Desktop\\backEnd_recommendation algorithm\\final_data.xlsx')\n",
    "\n",
    "# Convert DataFrame to dictionary\n",
    "excel_dict = excel_data.to_dict(orient='records')\n",
    "print(excel_dict)"
   ]
  },
  {
   "cell_type": "code",
   "execution_count": 67,
   "id": "98b7c275",
   "metadata": {},
   "outputs": [
    {
     "name": "stdout",
     "output_type": "stream",
     "text": [
      "{'user_id': {'1': nan}, 'sleep': {'1': ' '}, 'depression': {'1': 4.5}, 'Anger': {'1': 4}, 'Stress': {'1': 3.5}, 'loneliness': {'1': 2}, 'self-love': {'1': 2.5}, 'mind clarity': {'1': 5}}\n"
     ]
    }
   ],
   "source": [
    "# Assuming your original excel_dict looks like the provided output\n",
    "# Convert the list of dictionaries to the desired format\n",
    "restructured_dict = {}\n",
    "for entry in excel_dict:\n",
    "    for key, value in entry.items():\n",
    "        if key != 'foucse':  # Exclude the 'focus' column\n",
    "            if key not in restructured_dict:\n",
    "                restructured_dict[key] = {}\n",
    "            if hasattr(value, '__iter__'):  # Check if value is iterable\n",
    "                for client_id, rating in enumerate(value, start=1):\n",
    "                    restructured_dict[key][str(client_id)] = rating\n",
    "            else:\n",
    "                # If the value is not iterable, assume it's a single rating\n",
    "                restructured_dict[key]['1'] = value\n",
    "\n",
    "# Now, restructured_dict should have the format you specified\n",
    "print(restructured_dict)"
   ]
  },
  {
   "cell_type": "code",
   "execution_count": 68,
   "id": "e2a9600a",
   "metadata": {},
   "outputs": [
    {
     "name": "stdout",
     "output_type": "stream",
     "text": [
      "{'sleep': {'1.0': 4, '2.0': 5, '3.0': 5, '4.0': 5, '5.0': 5, '6.0': 4, '7.0': 2.5, '8.0': 5, '9.0': 5, '10.0': 5, '11.0': ' ', '12.0': 2, '13.0': ' ', '14.0': 4.5, '15.0': 4.5, '16.0': 3.5, '17.0': 4.5, '18.0': 4, '19.0': 2.5, '20.0': 4.5, '21.0': 5, '22.0': 5, '23.0': 2, '24.0': 2.5, '25.0': 5, '26.0': 2.5, '27.0': 2.5, '28.0': 5, '29.0': 4.5, '30.0': ' ', '31.0': 4.5, '32.0': 3.5, '33.0': 4, '34.0': 4, '35.0': 5, '36.0': 2, '37.0': ' ', '38.0': 3.5, '39.0': 5, '40.0': 3.5, '41.0': 4.5, '42.0': 5, '43.0': 5, '44.0': 5, '45.0': 4.5, '46.0': 2, '47.0': 5, '48.0': 5, '49.0': 5, '50.0': 5, '51.0': 5, '52.0': 5, '53.0': 2.5, '54.0': 4, '55.0': 4.5, '56.0': 5, '57.0': 5, '58.0': 4.5, '59.0': 5, '60.0': 4.5, '61.0': 3.5, '62.0': 5, '63.0': 4, '64.0': ' ', '65.0': 4.5, '66.0': 2.5, '67.0': 5, '68.0': 5, '69.0': ' ', '70.0': ' ', '71.0': 5, '72.0': 4.5, '73.0': 4.5, '74.0': 2, '75.0': ' ', '76.0': ' ', '77.0': 3.5, '78.0': 3.5, '79.0': 3.5, '80.0': 5, '81.0': 4, '82.0': 5, '83.0': 2, '84.0': ' ', '85.0': 4.5, '86.0': ' ', '87.0': ' ', '88.0': 4, '89.0': 5, '90.0': 3.5, '91.0': 5, '92.0': 4.5, '93.0': 2, '94.0': 4.5, '95.0': 5, '96.0': 5, '97.0': ' ', '98.0': 4.5, '99.0': 4, '100.0': 5, '101.0': 4, '102.0': 5, '103.0': 4.5, 'nan': ' '}, 'depression': {'1.0': 3.5, '2.0': 4.5, '3.0': 4, '4.0': 4.5, '5.0': 4.5, '6.0': 3.5, '7.0': 2, '8.0': 4, '9.0': 4, '10.0': 4.5, '11.0': 3.5, '12.0': 2.5, '13.0': 2.5, '14.0': ' ', '15.0': 3.5, '16.0': 4, '17.0': 3.5, '18.0': 4.5, '19.0': 3.5, '20.0': 2.5, '21.0': 4.5, '22.0': 4.5, '23.0': 2.5, '24.0': 4, '25.0': 4.5, '26.0': 4.5, '27.0': ' ', '28.0': 2.5, '29.0': 2.5, '30.0': 2.5, '31.0': 5, '32.0': 4.5, '33.0': 2, '34.0': 4.5, '35.0': 2, '36.0': 3.5, '37.0': 2.5, '38.0': 2, '39.0': 3.5, '40.0': 2.5, '41.0': 2, '42.0': 4.5, '43.0': 2, '44.0': 4.5, '45.0': 4, '46.0': 2.5, '47.0': 4.5, '48.0': 3.5, '49.0': 4.5, '50.0': 4, '51.0': 3.5, '52.0': 3.5, '53.0': 4.5, '54.0': 3.5, '55.0': 4, '56.0': ' ', '57.0': 4.5, '58.0': 4, '59.0': 4.5, '60.0': 3.5, '61.0': 2.5, '62.0': 4, '63.0': 4.5, '64.0': 4.5, '65.0': 2, '66.0': 4, '67.0': 4.5, '68.0': 4.5, '69.0': 2.5, '70.0': 2.5, '71.0': 4, '72.0': 5, '73.0': 5, '74.0': 3.5, '75.0': 4, '76.0': 2.5, '77.0': 2.5, '78.0': ' ', '79.0': 2, '80.0': 4.5, '81.0': 5, '82.0': 4, '83.0': 5, '84.0': 2.5, '85.0': 4, '86.0': 3.5, '87.0': 3.5, '88.0': 4.5, '89.0': ' ', '90.0': 5, '91.0': 4, '92.0': 2.5, '93.0': 5, '94.0': 2.5, '95.0': 4.5, '96.0': 2, '97.0': 2.5, '98.0': 5, '99.0': 5, '100.0': 4.5, '101.0': 2.5, '102.0': 4.5, '103.0': 3.5, 'nan': 4.5}, 'Anger': {'1.0': 2, '2.0': 4, '3.0': 2, '4.0': 4, '5.0': 4, '6.0': 2.5, '7.0': 5, '8.0': 4.5, '9.0': 2, '10.0': 4, '11.0': 4, '12.0': 3.5, '13.0': 3.5, '14.0': 2.5, '15.0': ' ', '16.0': 4.5, '17.0': 4, '18.0': 5, '19.0': 2, '20.0': 4, '21.0': 4, '22.0': 4, '23.0': 3.5, '24.0': 4.5, '25.0': 4, '26.0': 3.5, '27.0': 2, '28.0': 2, '29.0': 2, '30.0': 2, '31.0': 4, '32.0': 2, '33.0': 4.5, '34.0': ' ', '35.0': 2.5, '36.0': 2.5, '37.0': 4, '38.0': 2.5, '39.0': 4.5, '40.0': 4, '41.0': 5, '42.0': 2, '43.0': 2.5, '44.0': 4, '45.0': 2, '46.0': 3.5, '47.0': 4, '48.0': 4, '49.0': 4, '50.0': 4.5, '51.0': 2, '52.0': 4, '53.0': 4, '54.0': ' ', '55.0': 3.5, '56.0': 2, '57.0': ' ', '58.0': ' ', '59.0': 4, '60.0': 2, '61.0': 5, '62.0': 2, '63.0': 2.5, '64.0': 5, '65.0': ' ', '66.0': 5, '67.0': 4, '68.0': 4, '69.0': 2, '70.0': 2, '71.0': 4.5, '72.0': ' ', '73.0': 4, '74.0': 4, '75.0': 5, '76.0': 4.5, '77.0': 5, '78.0': 4, '79.0': 4.5, '80.0': 4, '81.0': 4.5, '82.0': 3.5, '83.0': 3.5, '84.0': 2, '85.0': 2, '86.0': 5, '87.0': 4.5, '88.0': ' ', '89.0': 2, '90.0': 2.5, '91.0': 4.5, '92.0': ' ', '93.0': 4.5, '94.0': 4, '95.0': 4, '96.0': 4.5, '97.0': 2, '98.0': 3.5, '99.0': 4.5, '100.0': 3.5, '101.0': 4.5, '102.0': 4, '103.0': 2.5, 'nan': 4}, 'Stress': {'1.0': 5, '2.0': 3.5, '3.0': 3.5, '4.0': 3.5, '5.0': 3.5, '6.0': 4.5, '7.0': 4.5, '8.0': 3.5, '9.0': 3.5, '10.0': 3.5, '11.0': 4.5, '12.0': 4, '13.0': 4, '14.0': 4, '15.0': 5, '16.0': 2.5, '17.0': 2, '18.0': 3.5, '19.0': ' ', '20.0': 3.5, '21.0': ' ', '22.0': 3.5, '23.0': 4.5, '24.0': 5, '25.0': 3.5, '26.0': 2, '27.0': 3.5, '28.0': 4.5, '29.0': 3.5, '30.0': 3.5, '31.0': 3.5, '32.0': 5, '33.0': 5, '34.0': 5, '35.0': 4.5, '36.0': 4, '37.0': 2, '38.0': ' ', '39.0': 2, '40.0': 4.5, '41.0': 4, '42.0': 4, '43.0': ' ', '44.0': 3.5, '45.0': 2.5, '46.0': 4, '47.0': 3.5, '48.0': 4.5, '49.0': 3.5, '50.0': ' ', '51.0': 4, '52.0': 2, '53.0': 2, '54.0': 2, '55.0': 2, '56.0': 3.5, '57.0': 2.5, '58.0': 5, '59.0': 3.5, '60.0': 5, '61.0': ' ', '62.0': 4.5, '63.0': 5, '64.0': 3.5, '65.0': 2.5, '66.0': 4.5, '67.0': 3.5, '68.0': ' ', '69.0': 3.5, '70.0': 3.5, '71.0': 3.5, '72.0': 4, '73.0': 3.5, '74.0': 4.5, '75.0': 2.5, '76.0': 2, '77.0': 4.5, '78.0': 2.5, '79.0': 4, '80.0': 3.5, '81.0': 3.5, '82.0': 2, '83.0': 4.5, '84.0': 3.5, '85.0': 3.5, '86.0': 2.5, '87.0': 4, '88.0': 2.5, '89.0': 2.5, '90.0': 4, '91.0': 3.5, '92.0': 4, '93.0': 3.5, '94.0': 3.5, '95.0': 3.5, '96.0': 4, '97.0': 3.5, '98.0': 4, '99.0': 2.5, '100.0': 4, '101.0': 5, '102.0': 3.5, '103.0': 4, 'nan': 3.5}, 'loneliness': {'1.0': 2.5, '2.0': 2, '3.0': 4.5, '4.0': 2, '5.0': 2, '6.0': 2, '7.0': ' ', '8.0': 2, '9.0': ' ', '10.0': ' ', '11.0': 2, '12.0': 5, '13.0': 2, '14.0': 2, '15.0': 2.5, '16.0': 5, '17.0': 5, '18.0': 2, '19.0': 4, '20.0': 5, '21.0': 2.5, '22.0': 2, '23.0': 5, '24.0': ' ', '25.0': ' ', '26.0': 5, '27.0': 5, '28.0': ' ', '29.0': ' ', '30.0': 4, '31.0': 2, '32.0': 2.5, '33.0': ' ', '34.0': 2.5, '35.0': ' ', '36.0': ' ', '37.0': 3.5, '38.0': 4.5, '39.0': 2.5, '40.0': 2, '41.0': 3.5, '42.0': 2.5, '43.0': 3.5, '44.0': 2, '45.0': 3.5, '46.0': 4.5, '47.0': 2, '48.0': 2, '49.0': 2.5, '50.0': 2, '51.0': ' ', '52.0': ' ', '53.0': ' ', '54.0': 2.5, '55.0': 2.5, '56.0': 2.5, '57.0': 2, '58.0': 2.5, '59.0': 2, '60.0': 2.5, '61.0': 4.5, '62.0': ' ', '63.0': ' ', '64.0': 2.5, '65.0': 5, '66.0': ' ', '67.0': 2, '68.0': 2.5, '69.0': 4, '70.0': 5, '71.0': ' ', '72.0': 2.5, '73.0': 2, '74.0': 2.5, '75.0': 4.5, '76.0': 5, '77.0': ' ', '78.0': 4.5, '79.0': 5, '80.0': ' ', '81.0': ' ', '82.0': 4.5, '83.0': 2.5, '84.0': 4, '85.0': 5, '86.0': 2, '87.0': 2, '88.0': 5, '89.0': 3.5, '90.0': ' ', '91.0': ' ', '92.0': 5, '93.0': 4, '94.0': 5, '95.0': 2, '96.0': ' ', '97.0': 4, '98.0': 2.5, '99.0': 3.5, '100.0': 2, '101.0': ' ', '102.0': 2, '103.0': ' ', 'nan': 2}, 'self-love': {'1.0': 4.5, '2.0': 2.5, '3.0': 2.5, '4.0': 2.5, '5.0': 2.5, '6.0': ' ', '7.0': 4, '8.0': 2.5, '9.0': 2.5, '10.0': 2, '11.0': 5, '12.0': 4.5, '13.0': 4.5, '14.0': 3.5, '15.0': 4, '16.0': ' ', '17.0': 2.5, '18.0': 2.5, '19.0': 4.5, '20.0': ' ', '21.0': 2, '22.0': 2.5, '23.0': 4, '24.0': 3.5, '25.0': 2, '26.0': 4, '27.0': 4.5, '28.0': 4, '29.0': 4, '30.0': 4.5, '31.0': 2.5, '32.0': ' ', '33.0': 2.5, '34.0': 3.5, '35.0': 4, '36.0': 5, '37.0': 4.5, '38.0': 4, '39.0': ' ', '40.0': ' ', '41.0': 2.5, '42.0': 3.5, '43.0': 4, '44.0': 2.5, '45.0': 5, '46.0': 5, '47.0': 2.5, '48.0': ' ', '49.0': 2, '50.0': 2.5, '51.0': 4.5, '52.0': 4.5, '53.0': 3.5, '54.0': 4.5, '55.0': 5, '56.0': 4.5, '57.0': 3.5, '58.0': 3.5, '59.0': 2.5, '60.0': 4, '61.0': 4, '62.0': 3.5, '63.0': 3.5, '64.0': 2, '65.0': 4, '66.0': 2, '67.0': 2.5, '68.0': 2, '69.0': 4.5, '70.0': 4.5, '71.0': 2, '72.0': 2, '73.0': 2.5, '74.0': ' ', '75.0': 3.5, '76.0': 3.5, '77.0': 2, '78.0': 2, '79.0': 2.5, '80.0': 2.5, '81.0': 2, '82.0': 2.5, '83.0': ' ', '84.0': 5, '85.0': ' ', '86.0': 4.5, '87.0': 5, '88.0': 2, '89.0': 4, '90.0': 4.5, '91.0': 2, '92.0': 3.5, '93.0': 2.5, '94.0': ' ', '95.0': 2.5, '96.0': 2.5, '97.0': 4.5, '98.0': 2, '99.0': ' ', '100.0': 2.5, '101.0': 2, '102.0': 2.5, '103.0': 2, 'nan': 2.5}, 'mind clarity': {'1.0': ' ', '2.0': ' ', '3.0': ' ', '4.0': ' ', '5.0': ' ', '6.0': 5, '7.0': 3.5, '8.0': ' ', '9.0': 4.5, '10.0': 2.5, '11.0': 2.5, '12.0': ' ', '13.0': 5, '14.0': 5, '15.0': 2, '16.0': 2, '17.0': ' ', '18.0': ' ', '19.0': 5, '20.0': 2, '21.0': 3.5, '22.0': ' ', '23.0': ' ', '24.0': 2, '25.0': 2.5, '26.0': ' ', '27.0': 4, '28.0': 3.5, '29.0': 5, '30.0': 5, '31.0': ' ', '32.0': 4, '33.0': 3.5, '34.0': 2, '35.0': 3.5, '36.0': 4.5, '37.0': 5, '38.0': 5, '39.0': 4, '40.0': 5, '41.0': ' ', '42.0': ' ', '43.0': 4.5, '44.0': ' ', '45.0': ' ', '46.0': ' ', '47.0': ' ', '48.0': 2.5, '49.0': ' ', '50.0': 3.5, '51.0': 2.5, '52.0': 2.5, '53.0': 5, '54.0': 5, '55.0': ' ', '56.0': 4, '57.0': 4, '58.0': 2, '59.0': ' ', '60.0': ' ', '61.0': 2, '62.0': 2.5, '63.0': 2, '64.0': 4, '65.0': 3.5, '66.0': 3.5, '67.0': ' ', '68.0': 3.5, '69.0': 5, '70.0': 4, '71.0': 2.5, '72.0': 3.5, '73.0': ' ', '74.0': 5, '75.0': 2, '76.0': 4, '77.0': 4, '78.0': 5, '79.0': ' ', '80.0': 2, '81.0': 2.5, '82.0': ' ', '83.0': 4, '84.0': 4.5, '85.0': 2.5, '86.0': 4, '87.0': 2.5, '88.0': 3.5, '89.0': 4.5, '90.0': 2, '91.0': 2.5, '92.0': 2, '93.0': ' ', '94.0': 2, '95.0': ' ', '96.0': 3.5, '97.0': 5, '98.0': ' ', '99.0': 2, '100.0': ' ', '101.0': 3.5, '102.0': ' ', '103.0': 5, 'nan': 5}}\n"
     ]
    }
   ],
   "source": [
    "import pandas as pd\n",
    "\n",
    "# Read the Excel file into a DataFrame\n",
    "excel_data = pd.read_excel(r'C:\\Users\\lenovo\\Desktop\\backEnd_recommendation algorithm\\final_data.xlsx')\n",
    "\n",
    "# Convert DataFrame to dictionary\n",
    "excel_dict = excel_data.to_dict(orient='records')\n",
    "\n",
    "# Initialize an empty dictionary to store the results\n",
    "result_dict = {}\n",
    "\n",
    "# Iterate over columns (except the first one, assuming it's user_id)\n",
    "for column in excel_data.columns[1:]:\n",
    "    # Create a nested dictionary for each column\n",
    "    column_dict = {}\n",
    "    # Iterate over rows to populate the dictionary with user_id and corresponding value\n",
    "    for index, row in excel_data.iterrows():\n",
    "        column_dict[str(row['user_id'])] = row[column]\n",
    "    # Add the nested dictionary to the result dictionary\n",
    "    result_dict[column] = column_dict\n",
    "\n",
    "# Print the result dictionary\n",
    "print(result_dict)\n"
   ]
  },
  {
   "cell_type": "code",
   "execution_count": 69,
   "id": "b1a7124d",
   "metadata": {},
   "outputs": [
    {
     "name": "stdout",
     "output_type": "stream",
     "text": [
      "{   'anger': {   '1': 3,\n",
      "                 '10': 3,\n",
      "                 '11': 3.5,\n",
      "                 '12': 3.5,\n",
      "                 '13': ' ',\n",
      "                 '14': 3.5,\n",
      "                 '15': 3,\n",
      "                 '16': ' ',\n",
      "                 '2': 2.5,\n",
      "                 '3': 3.5,\n",
      "                 '4': 3,\n",
      "                 '5': 3.5,\n",
      "                 '6': 3.5,\n",
      "                 '7': 3.5,\n",
      "                 '8': 3.5,\n",
      "                 '9': 4.5},\n",
      "    'dpressen': {   '1': 4.5,\n",
      "                    '10': 3.5,\n",
      "                    '11': 3.5,\n",
      "                    '12': 4.5,\n",
      "                    '13': 3.5,\n",
      "                    '14': 3.5,\n",
      "                    '15': ' ',\n",
      "                    '16': 4.5,\n",
      "                    '2': 3,\n",
      "                    '3': 4.5,\n",
      "                    '4': 3.5,\n",
      "                    '5': 2.5,\n",
      "                    '6': 4.5,\n",
      "                    '7': 3.5,\n",
      "                    '8': 4.5,\n",
      "                    '9': 3.5},\n",
      "    'foucse': {   '1': ' ',\n",
      "                  '10': 2.5,\n",
      "                  '11': 2.5,\n",
      "                  '12': 3,\n",
      "                  '13': 3,\n",
      "                  '14': ' ',\n",
      "                  '15': 3.5,\n",
      "                  '16': 3.5,\n",
      "                  '2': 4.5,\n",
      "                  '3': ' ',\n",
      "                  '4': ' ',\n",
      "                  '5': ' ',\n",
      "                  '6': ' ',\n",
      "                  '7': 2.5,\n",
      "                  '8': ' ',\n",
      "                  '9': 3.5},\n",
      "    'lonliness': {   '1': 2.5,\n",
      "                     '10': ' ',\n",
      "                     '11': ' ',\n",
      "                     '12': ' ',\n",
      "                     '13': 2.5,\n",
      "                     '14': 2.5,\n",
      "                     '15': 2.5,\n",
      "                     '16': 3,\n",
      "                     '2': 3.5,\n",
      "                     '3': 3,\n",
      "                     '4': 3.5,\n",
      "                     '5': 4.5,\n",
      "                     '6': 3,\n",
      "                     '7': 3,\n",
      "                     '8': 2.5,\n",
      "                     '9': 3},\n",
      "    'self_love': {   '1': 3.5,\n",
      "                     '10': 4.5,\n",
      "                     '11': 4.5,\n",
      "                     '12': 3.5,\n",
      "                     '13': 4.5,\n",
      "                     '14': 3,\n",
      "                     '15': 4.5,\n",
      "                     '16': 3.5,\n",
      "                     '2': 3.5,\n",
      "                     '3': 2.5,\n",
      "                     '4': 3,\n",
      "                     '5': 3,\n",
      "                     '6': 2.5,\n",
      "                     '7': ' ',\n",
      "                     '8': 3,\n",
      "                     '9': 2.5},\n",
      "    'sleep': {   '1': 3.0,\n",
      "                 '10': 3.0,\n",
      "                 '11': 3.0,\n",
      "                 '12': 2.5,\n",
      "                 '13': 3.5,\n",
      "                 '14': 4.5,\n",
      "                 '15': 3.0,\n",
      "                 '16': 3.0,\n",
      "                 '2': 3.0,\n",
      "                 '3': 3.0,\n",
      "                 '4': 4.5,\n",
      "                 '5': 3.0,\n",
      "                 '6': 3.0,\n",
      "                 '7': 3.0,\n",
      "                 '8': 3.0,\n",
      "                 '9': 3.0},\n",
      "    'stress': {   '1': 3.5,\n",
      "                  '10': 3.5,\n",
      "                  '11': 3,\n",
      "                  '12': 3,\n",
      "                  '13': 3,\n",
      "                  '14': 3,\n",
      "                  '15': 3.5,\n",
      "                  '16': 2.5,\n",
      "                  '2': ' ',\n",
      "                  '3': 3.5,\n",
      "                  '4': 2.5,\n",
      "                  '5': 3.5,\n",
      "                  '6': 3.5,\n",
      "                  '7': 4.5,\n",
      "                  '8': 3.5,\n",
      "                  '9': ' '}}\n"
     ]
    }
   ],
   "source": [
    "import pprint\n",
    "\n",
    "data = {\n",
    "    'sleep': {'1': 3.0, '2': 3.0, '3': 3.0, '4': 4.5, '5': 3.0, '6': 3.0, '7': 3.0, '8': 3.0, '9': 3.0, '10': 3.0, '11': 3.0, '12': 2.5, '13': 3.5, '14': 4.5, '15': 3.0, '16': 3.0},\n",
    "    'dpressen': {'1': 4.5, '2': 3, '3': 4.5, '4': 3.5, '5': 2.5, '6': 4.5, '7': 3.5, '8': 4.5, '9': 3.5, '10': 3.5, '11': 3.5, '12': 4.5, '13': 3.5, '14': 3.5, '15': ' ', '16': 4.5},\n",
    "    'anger': {'1': 3, '2': 2.5, '3': 3.5, '4': 3, '5': 3.5, '6': 3.5, '7': 3.5, '8': 3.5, '9': 4.5, '10': 3, '11': 3.5, '12': 3.5, '13': ' ', '14': 3.5, '15': 3, '16': ' '},\n",
    "    'stress': {'1': 3.5, '2': ' ', '3': 3.5, '4': 2.5, '5': 3.5, '6': 3.5, '7': 4.5, '8': 3.5, '9': ' ', '10': 3.5, '11': 3, '12': 3, '13': 3, '14': 3, '15': 3.5, '16': 2.5},\n",
    "    'lonliness': {'1': 2.5, '2': 3.5, '3': 3, '4': 3.5, '5': 4.5, '6': 3, '7': 3, '8': 2.5, '9': 3, '10': ' ', '11': ' ', '12': ' ', '13': 2.5, '14': 2.5, '15': 2.5, '16': 3},\n",
    "    'self_love': {'1': 3.5, '2': 3.5, '3': 2.5, '4': 3, '5': 3, '6': 2.5, '7': ' ', '8': 3, '9': 2.5, '10': 4.5, '11': 4.5, '12': 3.5, '13': 4.5, '14': 3, '15': 4.5, '16': 3.5},\n",
    "    'foucse': {'1': ' ', '2': 4.5, '3': ' ', '4': ' ', '5': ' ', '6': ' ', '7': 2.5, '8': ' ', '9': 3.5, '10': 2.5, '11': 2.5, '12': 3, '13': 3, '14': ' ', '15': 3.5, '16': 3.5}\n",
    "}\n",
    "\n",
    "pp = pprint.PrettyPrinter(indent=4)\n",
    "pp.pprint(data)\n"
   ]
  },
  {
   "cell_type": "code",
   "execution_count": 70,
   "id": "f15f7f53",
   "metadata": {},
   "outputs": [
    {
     "data": {
      "text/plain": [
       "5"
      ]
     },
     "execution_count": 70,
     "metadata": {},
     "output_type": "execute_result"
    }
   ],
   "source": [
    "result_dict['sleep']['4.0']"
   ]
  },
  {
   "cell_type": "code",
   "execution_count": 71,
   "id": "842429b2",
   "metadata": {},
   "outputs": [
    {
     "data": {
      "text/plain": [
       "4.5"
      ]
     },
     "execution_count": 71,
     "metadata": {},
     "output_type": "execute_result"
    }
   ],
   "source": [
    "result_dict['sleep']['14.0']"
   ]
  },
  {
   "cell_type": "code",
   "execution_count": null,
   "id": "6bafc256",
   "metadata": {},
   "outputs": [],
   "source": []
  },
  {
   "cell_type": "code",
   "execution_count": 72,
   "id": "0e8cef1c",
   "metadata": {},
   "outputs": [
    {
     "name": "stdout",
     "output_type": "stream",
     "text": [
      "     user_id meditation_type rating\n",
      "0        1.0           sleep      4\n",
      "1        2.0           sleep      5\n",
      "2        3.0           sleep      5\n",
      "3        4.0           sleep      5\n",
      "4        5.0           sleep      5\n",
      "..       ...             ...    ...\n",
      "723    100.0    mind clarity       \n",
      "724    101.0    mind clarity    3.5\n",
      "725    102.0    mind clarity       \n",
      "726    103.0    mind clarity      5\n",
      "727      NaN    mind clarity      5\n",
      "\n",
      "[728 rows x 3 columns]\n"
     ]
    }
   ],
   "source": [
    "import pandas as pd\n",
    "\n",
    "# Read the Excel file into a DataFrame\n",
    "data = pd.read_excel(r'C:\\Users\\lenovo\\Desktop\\backEnd_recommendation algorithm\\final_data.xlsx')\n",
    "\n",
    "# Melt the DataFrame to convert it from wide to long format\n",
    "melted_data = pd.melt(data, id_vars=['user_id'], var_name='meditation_type', value_name='rating')\n",
    "\n",
    "# Drop rows with NaN values in the 'rating' column\n",
    "melted_data = melted_data.dropna(subset=['rating'])\n",
    "\n",
    "# Print the resulting DataFrame\n",
    "print(melted_data)"
   ]
  },
  {
   "cell_type": "code",
   "execution_count": 73,
   "id": "722c7567",
   "metadata": {},
   "outputs": [
    {
     "name": "stdout",
     "output_type": "stream",
     "text": [
      "Melted data saved to 'melted_data.xlsx'\n"
     ]
    }
   ],
   "source": [
    "import pandas as pd\n",
    "\n",
    "# Read the Excel file into a DataFrame\n",
    "data = pd.read_excel(r'C:\\Users\\lenovo\\Desktop\\backEnd_recommendation algorithm\\final_data.xlsx')\n",
    "\n",
    "# Melt the DataFrame to convert it from wide to long format\n",
    "melted_data = pd.melt(data, id_vars=['user_id'], var_name='meditation_type', value_name='rating')\n",
    "\n",
    "# Drop rows with NaN values in the 'rating' column\n",
    "melted_data = melted_data.dropna(subset=['rating'])\n",
    "\n",
    "# Save the melted DataFrame to an Excel file\n",
    "melted_data.to_excel(r'C:\\Users\\lenovo\\Desktop\\melted_data.xlsx', index=False)\n",
    "\n",
    "print(\"Melted data saved to 'melted_data.xlsx'\")"
   ]
  },
  {
   "cell_type": "code",
   "execution_count": 74,
   "id": "e9552bd2",
   "metadata": {},
   "outputs": [],
   "source": [
    "import pandas as pd\n",
    "from libreco.data import DatasetPure\n",
    "\n",
    "# Read the CSV file into a DataFrame\n",
    "dataset = pd.read_csv(r'C:\\Users\\lenovo\\Desktop\\CMP4492_data.txt', sep='\\t', names=['user', 'item', 'label'])\n"
   ]
  },
  {
   "cell_type": "code",
   "execution_count": 75,
   "id": "4eef0c46",
   "metadata": {},
   "outputs": [
    {
     "name": "stdout",
     "output_type": "stream",
     "text": [
      "['4' '5' '2.5' ' ' '2' '4.5' '3.5']\n"
     ]
    },
    {
     "data": {
      "text/plain": [
       "7"
      ]
     },
     "execution_count": 75,
     "metadata": {},
     "output_type": "execute_result"
    }
   ],
   "source": [
    "import numpy as np\n",
    "unique_labels = dataset['label'].unique()\n",
    "print(unique_labels)\n",
    "len(np.unique(dataset['label']))"
   ]
  },
  {
   "cell_type": "code",
   "execution_count": 76,
   "id": "194da68d",
   "metadata": {},
   "outputs": [
    {
     "data": {
      "text/html": [
       "<div>\n",
       "<style scoped>\n",
       "    .dataframe tbody tr th:only-of-type {\n",
       "        vertical-align: middle;\n",
       "    }\n",
       "\n",
       "    .dataframe tbody tr th {\n",
       "        vertical-align: top;\n",
       "    }\n",
       "\n",
       "    .dataframe thead th {\n",
       "        text-align: right;\n",
       "    }\n",
       "</style>\n",
       "<table border=\"1\" class=\"dataframe\">\n",
       "  <thead>\n",
       "    <tr style=\"text-align: right;\">\n",
       "      <th></th>\n",
       "      <th>user</th>\n",
       "      <th>item</th>\n",
       "      <th>label</th>\n",
       "    </tr>\n",
       "  </thead>\n",
       "  <tbody>\n",
       "    <tr>\n",
       "      <th>0</th>\n",
       "      <td>1</td>\n",
       "      <td>201</td>\n",
       "      <td>4</td>\n",
       "    </tr>\n",
       "    <tr>\n",
       "      <th>1</th>\n",
       "      <td>2</td>\n",
       "      <td>201</td>\n",
       "      <td>5</td>\n",
       "    </tr>\n",
       "    <tr>\n",
       "      <th>2</th>\n",
       "      <td>3</td>\n",
       "      <td>201</td>\n",
       "      <td>5</td>\n",
       "    </tr>\n",
       "    <tr>\n",
       "      <th>3</th>\n",
       "      <td>4</td>\n",
       "      <td>201</td>\n",
       "      <td>5</td>\n",
       "    </tr>\n",
       "    <tr>\n",
       "      <th>4</th>\n",
       "      <td>5</td>\n",
       "      <td>201</td>\n",
       "      <td>5</td>\n",
       "    </tr>\n",
       "    <tr>\n",
       "      <th>...</th>\n",
       "      <td>...</td>\n",
       "      <td>...</td>\n",
       "      <td>...</td>\n",
       "    </tr>\n",
       "    <tr>\n",
       "      <th>723</th>\n",
       "      <td>100</td>\n",
       "      <td>207</td>\n",
       "      <td></td>\n",
       "    </tr>\n",
       "    <tr>\n",
       "      <th>724</th>\n",
       "      <td>101</td>\n",
       "      <td>207</td>\n",
       "      <td>3.5</td>\n",
       "    </tr>\n",
       "    <tr>\n",
       "      <th>725</th>\n",
       "      <td>102</td>\n",
       "      <td>207</td>\n",
       "      <td></td>\n",
       "    </tr>\n",
       "    <tr>\n",
       "      <th>726</th>\n",
       "      <td>103</td>\n",
       "      <td>207</td>\n",
       "      <td>5</td>\n",
       "    </tr>\n",
       "    <tr>\n",
       "      <th>727</th>\n",
       "      <td>104</td>\n",
       "      <td>207</td>\n",
       "      <td>5</td>\n",
       "    </tr>\n",
       "  </tbody>\n",
       "</table>\n",
       "<p>728 rows × 3 columns</p>\n",
       "</div>"
      ],
      "text/plain": [
       "     user  item label\n",
       "0       1   201     4\n",
       "1       2   201     5\n",
       "2       3   201     5\n",
       "3       4   201     5\n",
       "4       5   201     5\n",
       "..    ...   ...   ...\n",
       "723   100   207      \n",
       "724   101   207   3.5\n",
       "725   102   207      \n",
       "726   103   207     5\n",
       "727   104   207     5\n",
       "\n",
       "[728 rows x 3 columns]"
      ]
     },
     "execution_count": 76,
     "metadata": {},
     "output_type": "execute_result"
    }
   ],
   "source": [
    "dataset"
   ]
  },
  {
   "cell_type": "code",
   "execution_count": 77,
   "id": "9fc5ff13",
   "metadata": {},
   "outputs": [
    {
     "name": "stdout",
     "output_type": "stream",
     "text": [
      "[201 202 203 204 205 206 207]\n"
     ]
    },
    {
     "data": {
      "text/plain": [
       "7"
      ]
     },
     "execution_count": 77,
     "metadata": {},
     "output_type": "execute_result"
    }
   ],
   "source": [
    "unique_items = np.unique(dataset['item'])\n",
    "print((unique_items))\n",
    "len(np.unique(dataset['item']))"
   ]
  },
  {
   "cell_type": "code",
   "execution_count": 78,
   "id": "622135ec",
   "metadata": {},
   "outputs": [
    {
     "name": "stdout",
     "output_type": "stream",
     "text": [
      "[  1   2   3   4   5   6   7   8   9  10  11  12  13  14  15  16  17  18\n",
      "  19  20  21  22  23  24  25  26  27  28  29  30  31  32  33  34  35  36\n",
      "  37  38  39  40  41  42  43  44  45  46  47  48  49  50  51  52  53  54\n",
      "  55  56  57  58  59  60  61  62  63  64  65  66  67  68  69  70  71  72\n",
      "  73  74  75  76  77  78  79  80  81  82  83  84  85  86  87  88  89  90\n",
      "  91  92  93  94  95  96  97  98  99 100 101 102 103 104]\n"
     ]
    },
    {
     "data": {
      "text/plain": [
       "104"
      ]
     },
     "execution_count": 78,
     "metadata": {},
     "output_type": "execute_result"
    }
   ],
   "source": [
    "unique_users = np.unique(dataset['user'])\n",
    "print((unique_users))\n",
    "len(np.unique(dataset['user']))"
   ]
  },
  {
   "cell_type": "code",
   "execution_count": null,
   "id": "5cbd76e9",
   "metadata": {},
   "outputs": [],
   "source": [
    "dataset['label'] = pd.to_numeric(dataset['label'], errors='coerce')\n",
    "unique_labels = dataset['label'].unique()\n",
    "print(unique_labels)\n",
    "len(np.unique(dataset['label']))\n",
    "data, data_info = DatasetPure.build_trainset(dataset)\n",
    "type(data)\n",
    "print(data_info)"
   ]
  },
  {
   "cell_type": "code",
   "execution_count": null,
   "id": "1381c5dd",
   "metadata": {},
   "outputs": [],
   "source": [
    "from libreco.algorithms import UserCF, ItemCF\n",
    "item_cf = ItemCF(task='rating', data_info=data_info, sim_type='pearson')\n",
    "item_cf.fit(data, neg_sampling=False)  # Assuming neg_sampling should be False or removed"
   ]
  },
  {
   "cell_type": "code",
   "execution_count": null,
   "id": "4af537da",
   "metadata": {},
   "outputs": [],
   "source": [
    "\n",
    "print('Score prediction: ', item_cf.predict(user=102, item=7), meditation_types['204'])\n",
    "#there is a problrm"
   ]
  },
  {
   "cell_type": "code",
   "execution_count": null,
   "id": "8b4ac45b",
   "metadata": {},
   "outputs": [],
   "source": [
    "print('Recommendations: ', item_cf.recommend_user(user = 14, n_rec=5))\n",
    "#there is a problrm"
   ]
  },
  {
   "cell_type": "code",
   "execution_count": null,
   "id": "3ac83d38",
   "metadata": {},
   "outputs": [],
   "source": [
    "def print_user_recommendation_lr(meditation_dataset, cf, user, number_rec):\n",
    "    print(\"User:\", user)\n",
    "    print(\"Number of recommendations:\", number_rec)\n",
    "    \n",
    "    # Generate recommendations\n",
    "    recommendations = cf.recommend_user(user=user, n_rec=number_rec)\n",
    "    recommended_meditation_ids = recommendations.get(user, [])\n",
    "    \n",
    "    # Check if recommendations are generated\n",
    "    if not any(recommended_meditation_ids):\n",
    "        print(\"No recommendations generated for user\", user)\n",
    "        return\n",
    "    \n",
    "    # Print recommended meditations\n",
    "    print(\"Recommended meditations:\")\n",
    "    for meditation_id in recommended_meditation_ids:\n",
    "        if str(meditation_id) in meditation_dataset:\n",
    "            print(meditation_dataset[str(meditation_id)])"
   ]
  },
  {
   "cell_type": "code",
   "execution_count": null,
   "id": "220aa24e",
   "metadata": {},
   "outputs": [],
   "source": [
    "print_user_recommendation_lr(meditation_types, item_cf, 11, 3)"
   ]
  },
  {
   "cell_type": "code",
   "execution_count": null,
   "id": "ca00af0f",
   "metadata": {},
   "outputs": [],
   "source": [
    "print_user_recommendation_lr(meditation_types, item_cf, 16, 2)"
   ]
  },
  {
   "cell_type": "code",
   "execution_count": null,
   "id": "b4b37fe5",
   "metadata": {},
   "outputs": [],
   "source": [
    "print_user_recommendation_lr(meditation_types, item_cf, 88, 4)"
   ]
  },
  {
   "cell_type": "code",
   "execution_count": null,
   "id": "fedb1789",
   "metadata": {},
   "outputs": [],
   "source": [
    "import pandas as pd\n",
    "\n",
    "def print_all_users_recommendations(meditation_dataset, cf, number_rec, output_file, max_user_id):\n",
    "    all_recommendations = []\n",
    "    \n",
    "    # Iterate over all user IDs\n",
    "    for user_id in range(1, max_user_id + 1):\n",
    "        recommendations = cf.recommend_user(user=user_id, n_rec=number_rec)\n",
    "        recommended_meditation_ids = recommendations.get(user_id, [])\n",
    "        \n",
    "        # Check if recommendations are generated\n",
    "        if not any(recommended_meditation_ids):\n",
    "            print(\"No recommendations generated for user\", user_id)\n",
    "            continue\n",
    "        \n",
    "        # Collect recommended meditations for the user\n",
    "        for meditation_id in recommended_meditation_ids:\n",
    "            if str(meditation_id) in meditation_dataset:\n",
    "                meditation_topic = meditation_dataset[str(meditation_id)]\n",
    "                recommendation_data = [user_id, meditation_id, meditation_topic]\n",
    "                all_recommendations.append(recommendation_data)\n",
    "    \n",
    "    # Create DataFrame for all recommendations\n",
    "    columns = [\"User\", \"Meditation ID\", \"Topic\"]\n",
    "    df_recommendations = pd.DataFrame(all_recommendations, columns=columns)\n",
    "    \n",
    "    # Write all recommendations to Excel sheet\n",
    "    df_recommendations.to_excel(output_file, index=False)\n",
    "    print(\"All users' recommendations have been written to\", output_file)\n",
    "\n",
    "# Example usage:\n",
    "print_all_users_recommendations(meditation_types, item_cf, number_rec=3, output_file=\"all_users_recommendations.xlsx\", max_user_id=104)\n"
   ]
  },
  {
   "cell_type": "code",
   "execution_count": 89,
   "id": "b13a3c12",
   "metadata": {},
   "outputs": [
    {
     "name": "stdout",
     "output_type": "stream",
     "text": [
      "Training start time: \u001b[35m2024-05-18 01:25:39\u001b[0m\n",
      "Final block size and num: (7, 1)\n",
      "sim_matrix elapsed: 0.002s\n",
      "sim_matrix, shape: (7, 7), num_elements: 42, density: 0.3883 %\n"
     ]
    },
    {
     "name": "stderr",
     "output_type": "stream",
     "text": [
      "top_k: 100%|██████████| 7/7 [00:00<?, ?it/s]"
     ]
    },
    {
     "name": "stdout",
     "output_type": "stream",
     "text": [
      "\u001b[31mDetect 1 unknown interaction(s), position: [0]\u001b[0m\n",
      "\u001b[31mDetect 1 unknown interaction(s), position: [0]\u001b[0m\n",
      "\u001b[31mDetect 1 unknown interaction(s), position: [0]\u001b[0m\n",
      "\u001b[31mDetect 1 unknown interaction(s), position: [0]\u001b[0m\n",
      "\u001b[31mDetect 1 unknown interaction(s), position: [0]\u001b[0m\n",
      "\u001b[31mDetect 1 unknown interaction(s), position: [0]\u001b[0m\n",
      "\u001b[31mDetect 1 unknown interaction(s), position: [0]\u001b[0m\n",
      "\u001b[31mDetect 1 unknown interaction(s), position: [0]\u001b[0m\n",
      "\u001b[31mDetect 1 unknown interaction(s), position: [0]\u001b[0m\n",
      "\u001b[31mDetect 1 unknown interaction(s), position: [0]\u001b[0m\n",
      "\u001b[31mDetect 1 unknown interaction(s), position: [0]\u001b[0m\n",
      "\u001b[31mDetect 1 unknown interaction(s), position: [0]\u001b[0m\n",
      "\u001b[31mDetect 1 unknown interaction(s), position: [0]\u001b[0m\n",
      "\u001b[31mDetect 1 unknown interaction(s), position: [0]\u001b[0m\n",
      "\u001b[31mDetect 1 unknown interaction(s), position: [0]\u001b[0m\n",
      "\u001b[31mDetect 1 unknown interaction(s), position: [0]\u001b[0m\n",
      "\u001b[31mDetect 1 unknown interaction(s), position: [0]\u001b[0m\n",
      "\u001b[31mDetect 1 unknown interaction(s), position: [0]\u001b[0m\n",
      "\u001b[31mDetect 1 unknown interaction(s), position: [0]\u001b[0m\n",
      "\u001b[31mDetect 1 unknown interaction(s), position: [0]\u001b[0m\n",
      "\u001b[31mDetect 1 unknown interaction(s), position: [0]\u001b[0m\n",
      "\u001b[31mDetect 1 unknown interaction(s), position: [0]\u001b[0m\n",
      "\u001b[31mDetect 1 unknown interaction(s), position: [0]\u001b[0m\n",
      "\u001b[31mDetect 1 unknown interaction(s), position: [0]\u001b[0m\n",
      "\u001b[31mDetect 1 unknown interaction(s), position: [0]\u001b[0m\n",
      "\u001b[31mDetect 1 unknown interaction(s), position: [0]\u001b[0m\n",
      "\u001b[31mDetect 1 unknown interaction(s), position: [0]\u001b[0m\n",
      "\u001b[31mDetect 1 unknown interaction(s), position: [0]\u001b[0m\n",
      "\u001b[31mDetect 1 unknown interaction(s), position: [0]\u001b[0m\n",
      "\u001b[31mDetect 1 unknown interaction(s), position: [0]\u001b[0m\n",
      "\u001b[31mDetect 1 unknown interaction(s), position: [0]\u001b[0m\n",
      "\u001b[31mDetect 1 unknown interaction(s), position: [0]\u001b[0m\n",
      "\u001b[31mDetect 1 unknown interaction(s), position: [0]\u001b[0m\n",
      "\u001b[31mDetect 1 unknown interaction(s), position: [0]\u001b[0m\n",
      "\u001b[31mDetect 1 unknown interaction(s), position: [0]\u001b[0m\n",
      "\u001b[31mDetect 1 unknown interaction(s), position: [0]\u001b[0m\n",
      "\u001b[31mDetect 1 unknown interaction(s), position: [0]\u001b[0m\n",
      "\u001b[31mDetect 1 unknown interaction(s), position: [0]\u001b[0m\n",
      "\u001b[31mDetect 1 unknown interaction(s), position: [0]\u001b[0m\n",
      "\u001b[31mDetect 1 unknown interaction(s), position: [0]\u001b[0m\n",
      "\u001b[31mDetect 1 unknown interaction(s), position: [0]\u001b[0m\n",
      "\u001b[31mDetect 1 unknown interaction(s), position: [0]\u001b[0m\n",
      "\u001b[31mDetect 1 unknown interaction(s), position: [0]\u001b[0m\n",
      "\u001b[31mDetect 1 unknown interaction(s), position: [0]\u001b[0m\n",
      "\u001b[31mDetect 1 unknown interaction(s), position: [0]\u001b[0m\n",
      "\u001b[31mDetect 1 unknown interaction(s), position: [0]\u001b[0m\n",
      "\u001b[31mDetect 1 unknown interaction(s), position: [0]\u001b[0m\n",
      "\u001b[31mDetect 1 unknown interaction(s), position: [0]\u001b[0m\n",
      "\u001b[31mDetect 1 unknown interaction(s), position: [0]\u001b[0m\n",
      "\u001b[31mDetect 1 unknown interaction(s), position: [0]\u001b[0m\n",
      "\u001b[31mDetect 1 unknown interaction(s), position: [0]\u001b[0m\n",
      "\u001b[31mDetect 1 unknown interaction(s), position: [0]\u001b[0m\n",
      "\u001b[31mDetect 1 unknown interaction(s), position: [0]\u001b[0m\n",
      "\u001b[31mDetect 1 unknown interaction(s), position: [0]\u001b[0m\n",
      "\u001b[31mDetect 1 unknown interaction(s), position: [0]\u001b[0m\n",
      "\u001b[31mDetect 1 unknown interaction(s), position: [0]\u001b[0m\n",
      "\u001b[31mDetect 1 unknown interaction(s), position: [0]\u001b[0m\n",
      "\u001b[31mDetect 1 unknown interaction(s), position: [0]\u001b[0m\n",
      "\u001b[31mDetect 1 unknown interaction(s), position: [0]\u001b[0m\n",
      "\u001b[31mDetect 1 unknown interaction(s), position: [0]\u001b[0m\n",
      "\u001b[31mDetect 1 unknown interaction(s), position: [0]\u001b[0m\n",
      "\u001b[31mDetect 1 unknown interaction(s), position: [0]\u001b[0m\n",
      "\u001b[31mDetect 1 unknown interaction(s), position: [0]\u001b[0m\n",
      "\u001b[31mDetect 1 unknown interaction(s), position: [0]\u001b[0m\n",
      "\u001b[31mDetect 1 unknown interaction(s), position: [0]\u001b[0m\n",
      "\u001b[31mDetect 1 unknown interaction(s), position: [0]\u001b[0m\n",
      "\u001b[31mDetect 1 unknown interaction(s), position: [0]\u001b[0m\n",
      "\u001b[31mDetect 1 unknown interaction(s), position: [0]\u001b[0m\n",
      "\u001b[31mDetect 1 unknown interaction(s), position: [0]\u001b[0m\n",
      "\u001b[31mDetect 1 unknown interaction(s), position: [0]\u001b[0m\n",
      "\u001b[31mDetect 1 unknown interaction(s), position: [0]\u001b[0m\n",
      "\u001b[31mDetect 1 unknown interaction(s), position: [0]\u001b[0m\n",
      "\u001b[31mDetect 1 unknown interaction(s), position: [0]\u001b[0m\n",
      "\u001b[31mDetect 1 unknown interaction(s), position: [0]\u001b[0m\n",
      "\u001b[31mDetect 1 unknown interaction(s), position: [0]\u001b[0m\n",
      "\u001b[31mDetect 1 unknown interaction(s), position: [0]\u001b[0m\n",
      "\u001b[31mDetect 1 unknown interaction(s), position: [0]\u001b[0m\n",
      "\u001b[31mDetect 1 unknown interaction(s), position: [0]\u001b[0m\n",
      "\u001b[31mDetect 1 unknown interaction(s), position: [0]\u001b[0m\n",
      "\u001b[31mDetect 1 unknown interaction(s), position: [0]\u001b[0m\n",
      "\u001b[31mDetect 1 unknown interaction(s), position: [0]\u001b[0m\n",
      "\u001b[31mDetect 1 unknown interaction(s), position: [0]\u001b[0m\n",
      "\u001b[31mDetect 1 unknown interaction(s), position: [0]\u001b[0m\n",
      "\u001b[31mDetect 1 unknown interaction(s), position: [0]\u001b[0m\n",
      "\u001b[31mDetect 1 unknown interaction(s), position: [0]\u001b[0m\n",
      "\u001b[31mDetect 1 unknown interaction(s), position: [0]\u001b[0m\n",
      "\u001b[31mDetect 1 unknown interaction(s), position: [0]\u001b[0m\n",
      "\u001b[31mDetect 1 unknown interaction(s), position: [0]\u001b[0m\n",
      "\u001b[31mDetect 1 unknown interaction(s), position: [0]\u001b[0m\n",
      "\u001b[31mDetect 1 unknown interaction(s), position: [0]\u001b[0m\n",
      "\u001b[31mDetect 1 unknown interaction(s), position: [0]\u001b[0m\n",
      "\u001b[31mDetect 1 unknown interaction(s), position: [0]\u001b[0m\n",
      "\u001b[31mDetect 1 unknown interaction(s), position: [0]\u001b[0m\n",
      "\u001b[31mDetect 1 unknown interaction(s), position: [0]\u001b[0m\n",
      "\u001b[31mDetect 1 unknown interaction(s), position: [0]\u001b[0m\n",
      "\u001b[31mDetect 1 unknown interaction(s), position: [0]\u001b[0m\n",
      "\u001b[31mDetect 1 unknown interaction(s), position: [0]\u001b[0m\n",
      "\u001b[31mDetect 1 unknown interaction(s), position: [0]\u001b[0m\n",
      "\u001b[31mDetect 1 unknown interaction(s), position: [0]\u001b[0m\n",
      "\u001b[31mDetect 1 unknown interaction(s), position: [0]\u001b[0m\n",
      "\u001b[31mDetect 1 unknown interaction(s), position: [0]\u001b[0m\n",
      "\u001b[31mDetect 1 unknown interaction(s), position: [0]\u001b[0m\n",
      "\u001b[31mDetect 1 unknown interaction(s), position: [0]\u001b[0m\n",
      "\u001b[31mDetect 1 unknown interaction(s), position: [0]\u001b[0m\n",
      "\u001b[31mDetect 1 unknown interaction(s), position: [0]\u001b[0m\n",
      "\u001b[31mDetect 1 unknown interaction(s), position: [0]\u001b[0m\n",
      "\u001b[31mDetect 1 unknown interaction(s), position: [0]\u001b[0m\n",
      "\u001b[31mDetect 1 unknown interaction(s), position: [0]\u001b[0m\n",
      "\u001b[31mDetect 1 unknown interaction(s), position: [0]\u001b[0m\n",
      "\u001b[31mDetect 1 unknown interaction(s), position: [0]\u001b[0m\n",
      "\u001b[31mDetect 1 unknown interaction(s), position: [0]\u001b[0m\n",
      "\u001b[31mDetect 1 unknown interaction(s), position: [0]\u001b[0m\n",
      "\u001b[31mDetect 1 unknown interaction(s), position: [0]\u001b[0m\n",
      "\u001b[31mDetect 1 unknown interaction(s), position: [0]\u001b[0m\n",
      "\u001b[31mDetect 1 unknown interaction(s), position: [0]\u001b[0m\n",
      "\u001b[31mDetect 1 unknown interaction(s), position: [0]\u001b[0m\n",
      "\u001b[31mDetect 1 unknown interaction(s), position: [0]\u001b[0m\n",
      "\u001b[31mDetect 1 unknown interaction(s), position: [0]\u001b[0m\n",
      "\u001b[31mDetect 1 unknown interaction(s), position: [0]\u001b[0m\n",
      "\u001b[31mDetect 1 unknown interaction(s), position: [0]\u001b[0m\n",
      "\u001b[31mDetect 1 unknown interaction(s), position: [0]\u001b[0m\n",
      "\u001b[31mDetect 1 unknown interaction(s), position: [0]\u001b[0m\n",
      "\u001b[31mDetect 1 unknown interaction(s), position: [0]\u001b[0m\n",
      "\u001b[31mDetect 1 unknown interaction(s), position: [0]\u001b[0m\n",
      "\u001b[31mDetect 1 unknown interaction(s), position: [0]\u001b[0m\n",
      "\u001b[31mDetect 1 unknown interaction(s), position: [0]\u001b[0m\n",
      "\u001b[31mDetect 1 unknown interaction(s), position: [0]\u001b[0m\n",
      "\u001b[31mDetect 1 unknown interaction(s), position: [0]\u001b[0m\n",
      "\u001b[31mDetect 1 unknown interaction(s), position: [0]\u001b[0m\n",
      "\u001b[31mDetect 1 unknown interaction(s), position: [0]\u001b[0m\n",
      "\u001b[31mDetect 1 unknown interaction(s), position: [0]\u001b[0m\n",
      "\u001b[31mDetect 1 unknown interaction(s), position: [0]\u001b[0m\n",
      "\u001b[31mDetect 1 unknown interaction(s), position: [0]\u001b[0m\n",
      "\u001b[31mDetect 1 unknown interaction(s), position: [0]\u001b[0m\n",
      "\u001b[31mDetect 1 unknown interaction(s), position: [0]\u001b[0m\n",
      "\u001b[31mDetect 1 unknown interaction(s), position: [0]\u001b[0m\n",
      "\u001b[31mDetect 1 unknown interaction(s), position: [0]\u001b[0m\n",
      "\u001b[31mDetect 1 unknown interaction(s), position: [0]\u001b[0m\n",
      "\u001b[31mDetect 1 unknown interaction(s), position: [0]\u001b[0m\n",
      "\u001b[31mDetect 1 unknown interaction(s), position: [0]\u001b[0m\n",
      "\u001b[31mDetect 1 unknown interaction(s), position: [0]\u001b[0m\n",
      "\u001b[31mDetect 1 unknown interaction(s), position: [0]\u001b[0m\n",
      "\u001b[31mDetect 1 unknown interaction(s), position: [0]\u001b[0m\n",
      "\u001b[31mDetect 1 unknown interaction(s), position: [0]\u001b[0m\n",
      "\u001b[31mDetect 1 unknown interaction(s), position: [0]\u001b[0m\n",
      "\u001b[31mDetect 1 unknown interaction(s), position: [0]\u001b[0m\n",
      "MSE: 0.7930415210669178\n",
      "MAE: 0.684990362281971\n",
      "RMSE: 0.8905287873319525\n"
     ]
    },
    {
     "name": "stderr",
     "output_type": "stream",
     "text": [
      "\n"
     ]
    }
   ],
   "source": [
    "import pandas as pd\n",
    "from sklearn.model_selection import train_test_split\n",
    "from libreco.data import DatasetPure\n",
    "from libreco.algorithms import ItemCF\n",
    "from sklearn.metrics import mean_squared_error, mean_absolute_error\n",
    "import numpy as np\n",
    "\n",
    "# Read the CSV file into a DataFrame\n",
    "dataset = pd.read_csv(r'C:\\Users\\lenovo\\Desktop\\CMP4492_data.txt', sep='\\t', names=['user', 'item', 'label'])\n",
    "\n",
    "# Convert 'label' to numeric, setting errors='coerce' will turn non-numeric values into NaN\n",
    "dataset['label'] = pd.to_numeric(dataset['label'], errors='coerce')\n",
    "\n",
    "# Fill missing values with the mean rating\n",
    "dataset['label'].fillna(dataset['label'].mean(), inplace=True)\n",
    "\n",
    "# Split the data into training and test sets\n",
    "train_data, test_data = train_test_split(dataset, test_size=0.2, random_state=42)\n",
    "\n",
    "# Build the train and test datasets\n",
    "train_data, data_info = DatasetPure.build_trainset(train_data)\n",
    "test_data = DatasetPure.build_testset(test_data)\n",
    "\n",
    "# Train the model\n",
    "item_cf = ItemCF(task='rating', data_info=data_info, sim_type='pearson')\n",
    "item_cf.fit(train_data, neg_sampling=False)\n",
    "\n",
    "# Custom evaluation metrics\n",
    "actual_ratings = []\n",
    "predicted_ratings = []\n",
    "\n",
    "for i in range(len(test_data.user_indices)):\n",
    "    user = test_data.user_indices[i]\n",
    "    item = test_data.item_indices[i]\n",
    "    actual_rating = test_data.labels[i]\n",
    "    predicted_rating = item_cf.predict(user=user, item=item)\n",
    "    \n",
    "    actual_ratings.append(actual_rating)\n",
    "    predicted_ratings.append(predicted_rating)\n",
    "\n",
    "# Calculate and print evaluation metrics for rating predictions\n",
    "mse = mean_squared_error(actual_ratings, predicted_ratings)\n",
    "mae = mean_absolute_error(actual_ratings, predicted_ratings)\n",
    "rmse = np.sqrt(mse)\n",
    "\n",
    "print(f\"MSE: {mse}\")\n",
    "print(f\"MAE: {mae}\")\n",
    "print(f\"RMSE: {rmse}\")\n"
   ]
  },
  {
   "cell_type": "code",
   "execution_count": null,
   "id": "240332a7",
   "metadata": {},
   "outputs": [],
   "source": []
  }
 ],
 "metadata": {
  "kernelspec": {
   "display_name": "Python 3 (ipykernel)",
   "language": "python",
   "name": "python3"
  },
  "language_info": {
   "codemirror_mode": {
    "name": "ipython",
    "version": 3
   },
   "file_extension": ".py",
   "mimetype": "text/x-python",
   "name": "python",
   "nbconvert_exporter": "python",
   "pygments_lexer": "ipython3",
   "version": "3.9.12"
  }
 },
 "nbformat": 4,
 "nbformat_minor": 5
}
